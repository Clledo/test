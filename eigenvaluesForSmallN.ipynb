{
 "cells": [
  {
   "cell_type": "code",
   "execution_count": 2,
   "metadata": {},
   "outputs": [],
   "source": [
    "%matplotlib inline\n",
    "import matplotlib.pyplot as plt\n",
    "import numpy as np\n",
    "from IPython.display import Image\n",
    "from qutip import *"
   ]
  },
  {
   "cell_type": "code",
   "execution_count": 3,
   "metadata": {},
   "outputs": [],
   "source": [
    "gamma = 1.0\n",
    "Delta = 1.0\n",
    "J = 1.0\n",
    "lista_Fp_tilde =np.linspace(0.5,1.0,20)"
   ]
  },
  {
   "cell_type": "code",
   "execution_count": null,
   "metadata": {},
   "outputs": [],
   "source": [
    "lista_N = [1,2,3,4]\n",
    "lista_Ncutoff = [8,10,13,14]\n",
    "lista_ceros_paper = []\n",
    "lista_gaps_paper = []\n",
    "lista_segundos_paper =[]\n",
    "lista_ceros1 = []\n",
    "lista_ceros2 = []\n",
    "lista_gaps1 = []\n",
    "lista_gaps2 = []\n",
    "lista_segundos = []\n",
    "for ind in range(0,4):\n",
    "    N = lista_N[ind]\n",
    "    N_cutoff = lista_Ncutoff[ind]\n",
    "    U = 1.0/N\n",
    "    lista_Fp = lista_Fp_tilde*np.sqrt(N)\n",
    "    a = destroy(N_cutoff)\n",
    "    ad = a.dag()\n",
    "    idty = qeye(N_cutoff)\n",
    "    a1 = tensor(a,idty)\n",
    "    a1d = a1.dag()\n",
    "    a2 = tensor(idty,a)\n",
    "    a2d = a2.dag()\n",
    "    H_detuning = -Delta * (a1d * a1 + a2d * a2)\n",
    "    H_nonlinear = U * (a1d * a1d * a1 * a1 + a2d * a2d * a2 * a2)\n",
    "    H_hopping = -J * (tensor(ad,a) + tensor(a,ad))\n",
    "    c_ops_l = [a1,a2]\n",
    "    c_ops_nl = [a1+a2]\n",
    "    lista_cero_paper = []\n",
    "    lista_gap_paper = []\n",
    "    lista_segundo_paper = []\n",
    "    lista_cero1 = []\n",
    "    lista_cero2 = []\n",
    "    lista_gap1 = []\n",
    "    lista_gap2 = []\n",
    "    lista_segundo = []\n",
    "    for k in lista_Fp:\n",
    "        H_pump = k * (a1 + a1d + a2 + a2d)\n",
    "        H = H_detuning + H_nonlinear + H_hopping + H_pump\n",
    "        L = liouvillian(H,c_ops_l)\n",
    "        valores = L.eigenenergies()\n",
    "        cero = valores[-1]\n",
    "        gap = valores[-2]\n",
    "        segundo = valores[-3]\n",
    "        lista_cero_paper.append(cero)\n",
    "        lista_gap_paper.append(gap)\n",
    "        lista_segundo_paper.append(segundo)\n",
    "        L = liouvillian(H,c_ops_nl)\n",
    "        valores = L.eigenenergies()\n",
    "        cero1 = valores[-1]\n",
    "        cero2 = valores[-2]\n",
    "        gap1 = valores[-3]\n",
    "        gap2 = valores[-4]\n",
    "        segundo = valores[-5]\n",
    "        lista_cero1.append(cero1)\n",
    "        lista_cero2.append(cero2)\n",
    "        lista_gap1.append(gap1)\n",
    "        lista_gap2.append(gap2)\n",
    "        lista_segundo.append(segundo)\n",
    "    lista_ceros_paper.append(lista_cero_paper)\n",
    "    lista_gaps_paper.append(lista_gap_paper)\n",
    "    lista_segundos_paper.append(lista_segundo_paper)\n",
    "    lista_ceros1.append(lista_cero1)\n",
    "    lista_ceros2.append(lista_cero2)\n",
    "    lista_gaps1.append(lista_gap1)\n",
    "    lista_gaps2.append(lista_gap2)\n",
    "    lista_segundos.append(lista_segundo)"
   ]
  },
  {
   "cell_type": "code",
   "execution_count": null,
   "metadata": {},
   "outputs": [],
   "source": [
    "qsave(lista_ceros_paper, 'lista_ceros_paper')\n",
    "qsave(lista_gaps_paper, 'lista_gaps_paper')\n",
    "qsave(lista_segundos_paper, 'lista_segundos_paper')\n",
    "qsave(lista_ceros1, 'lista_ceros1')\n",
    "qsave(lista_ceros2, 'lista_ceros2')\n",
    "qsave(lista_gaps1, 'lista_gaps1')\n",
    "qsave(lista_gaps2, 'lista_gaps2')\n",
    "qsave(lista_segundos, 'lista_segundos')"
   ]
  },
  {
   "cell_type": "code",
   "execution_count": 5,
   "metadata": {},
   "outputs": [
    {
     "name": "stdout",
     "output_type": "stream",
     "text": [
      "1\n",
      "2\n",
      "3\n"
     ]
    }
   ],
   "source": [
    "for ind in range(0,3):\n",
    "    print(asd[ind])"
   ]
  },
  {
   "cell_type": "code",
   "execution_count": 4,
   "metadata": {},
   "outputs": [],
   "source": [
    "asd= [1,2,3]"
   ]
  },
  {
   "cell_type": "code",
   "execution_count": null,
   "metadata": {},
   "outputs": [],
   "source": []
  }
 ],
 "metadata": {
  "kernelspec": {
   "display_name": "Python 3",
   "language": "python",
   "name": "python3"
  },
  "language_info": {
   "codemirror_mode": {
    "name": "ipython",
    "version": 3
   },
   "file_extension": ".py",
   "mimetype": "text/x-python",
   "name": "python",
   "nbconvert_exporter": "python",
   "pygments_lexer": "ipython3",
   "version": "3.6.4"
  }
 },
 "nbformat": 4,
 "nbformat_minor": 2
}
