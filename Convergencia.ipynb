{
 "cells": [
  {
   "cell_type": "code",
   "execution_count": 1,
   "metadata": {},
   "outputs": [],
   "source": [
    "%matplotlib inline\n",
    "import matplotlib.pyplot as plt\n",
    "import numpy as np\n",
    "from IPython.display import Image\n",
    "from qutip import *"
   ]
  },
  {
   "cell_type": "code",
   "execution_count": 28,
   "metadata": {},
   "outputs": [],
   "source": [
    "#N_cutoff = 16\n",
    "gamma = 1.0\n",
    "Delta = 1.0\n",
    "J = 1.0\n",
    "N = 30\n",
    "U = 1.0/N\n",
    "Fp = np.sqrt(N)*1.0"
   ]
  },
  {
   "cell_type": "code",
   "execution_count": 29,
   "metadata": {
    "scrolled": true
   },
   "outputs": [
    {
     "name": "stdout",
     "output_type": "stream",
     "text": [
      "10.0%. Run time: 566.26s. Est. time left: 00:01:24:56\n",
      "20.0%. Run time: 1075.04s. Est. time left: 00:01:11:40\n",
      "30.0%. Run time: 1609.73s. Est. time left: 00:01:02:36\n",
      "40.0%. Run time: 2100.83s. Est. time left: 00:00:52:31\n",
      "50.0%. Run time: 2598.76s. Est. time left: 00:00:43:18\n",
      "60.0%. Run time: 3077.04s. Est. time left: 00:00:34:11\n",
      "70.0%. Run time: 3573.35s. Est. time left: 00:00:25:31\n",
      "80.0%. Run time: 4078.91s. Est. time left: 00:00:16:59\n",
      "90.0%. Run time: 4576.50s. Est. time left: 00:00:08:28\n",
      "100.0%. Run time: 5027.51s. Est. time left: 00:00:00:00\n",
      "Total run time: 5027.54s\n",
      "10.0%. Run time: 518.76s. Est. time left: 00:01:17:48\n",
      "20.0%. Run time: 1040.82s. Est. time left: 00:01:09:23\n",
      "30.0%. Run time: 1562.24s. Est. time left: 00:01:00:45\n",
      "40.0%. Run time: 2062.62s. Est. time left: 00:00:51:33\n",
      "50.0%. Run time: 2606.67s. Est. time left: 00:00:43:26\n",
      "60.0%. Run time: 3122.62s. Est. time left: 00:00:34:41\n",
      "70.0%. Run time: 3639.28s. Est. time left: 00:00:25:59\n",
      "80.0%. Run time: 4149.62s. Est. time left: 00:00:17:17\n",
      "90.0%. Run time: 4657.27s. Est. time left: 00:00:08:37\n",
      "100.0%. Run time: 5134.66s. Est. time left: 00:00:00:00\n",
      "Total run time: 5134.72s\n",
      "10.0%. Run time: 522.89s. Est. time left: 00:01:18:25\n",
      "20.0%. Run time: 1044.97s. Est. time left: 00:01:09:39\n",
      "30.0%. Run time: 1553.13s. Est. time left: 00:01:00:23\n",
      "40.0%. Run time: 2070.93s. Est. time left: 00:00:51:46\n",
      "50.0%. Run time: 2555.91s. Est. time left: 00:00:42:35\n",
      "60.0%. Run time: 3069.62s. Est. time left: 00:00:34:06\n",
      "70.0%. Run time: 3564.66s. Est. time left: 00:00:25:27\n",
      "80.0%. Run time: 4073.09s. Est. time left: 00:00:16:58\n",
      "90.0%. Run time: 4593.98s. Est. time left: 00:00:08:30\n",
      "100.0%. Run time: 5063.45s. Est. time left: 00:00:00:00\n",
      "Total run time: 5063.50s\n",
      "10.0%. Run time: 525.53s. Est. time left: 00:01:18:49\n",
      "20.0%. Run time: 1045.69s. Est. time left: 00:01:09:42\n",
      "30.0%. Run time: 1574.84s. Est. time left: 00:01:01:14\n",
      "40.0%. Run time: 2075.78s. Est. time left: 00:00:51:53\n",
      "50.0%. Run time: 2587.84s. Est. time left: 00:00:43:07\n",
      "60.0%. Run time: 3122.38s. Est. time left: 00:00:34:41\n",
      "70.0%. Run time: 3638.18s. Est. time left: 00:00:25:59\n",
      "80.0%. Run time: 4145.28s. Est. time left: 00:00:17:16\n",
      "90.0%. Run time: 4659.46s. Est. time left: 00:00:08:37\n",
      "100.0%. Run time: 5104.48s. Est. time left: 00:00:00:00\n",
      "Total run time: 5104.54s\n",
      "10.0%. Run time: 524.98s. Est. time left: 00:01:18:44\n",
      "20.0%. Run time: 1049.32s. Est. time left: 00:01:09:57\n",
      "30.0%. Run time: 1545.02s. Est. time left: 00:01:00:05\n",
      "40.0%. Run time: 2058.42s. Est. time left: 00:00:51:27\n",
      "50.0%. Run time: 2580.77s. Est. time left: 00:00:43:00\n",
      "60.0%. Run time: 3101.08s. Est. time left: 00:00:34:27\n",
      "70.0%. Run time: 3601.27s. Est. time left: 00:00:25:43\n",
      "80.0%. Run time: 4118.74s. Est. time left: 00:00:17:09\n",
      "90.0%. Run time: 4623.56s. Est. time left: 00:00:08:33\n",
      "100.0%. Run time: 5132.89s. Est. time left: 00:00:00:00\n",
      "Total run time: 5132.94s\n",
      "10.0%. Run time: 563.20s. Est. time left: 00:01:24:28\n",
      "20.0%. Run time: 1096.98s. Est. time left: 00:01:13:07\n",
      "30.0%. Run time: 1620.90s. Est. time left: 00:01:03:02\n",
      "40.0%. Run time: 2156.40s. Est. time left: 00:00:53:54\n",
      "50.0%. Run time: 2661.13s. Est. time left: 00:00:44:21\n",
      "60.0%. Run time: 3191.51s. Est. time left: 00:00:35:27\n",
      "70.0%. Run time: 3694.94s. Est. time left: 00:00:26:23\n",
      "80.0%. Run time: 4210.83s. Est. time left: 00:00:17:32\n",
      "90.0%. Run time: 4727.80s. Est. time left: 00:00:08:45\n",
      "100.0%. Run time: 5231.59s. Est. time left: 00:00:00:00\n",
      "Total run time: 5231.64s\n"
     ]
    }
   ],
   "source": [
    "lista = []\n",
    "lista2 =[]\n",
    "for N_cutoff in range(80,83):\n",
    "    a = destroy(N_cutoff)\n",
    "    ad = a.dag()\n",
    "    idty = qeye(N_cutoff)\n",
    "    a1 = tensor(a,idty)\n",
    "    a1d = a1.dag()\n",
    "    a2 = tensor(idty,a)\n",
    "    a2d = a2.dag()\n",
    "    H_detuning = -Delta * (a1d * a1 + a2d * a2)\n",
    "    H_nonlinear = U * (a1d * a1d * a1 * a1 + a2d * a2d * a2 * a2)\n",
    "    H_hopping = -J * (tensor(ad,a) + tensor(a,ad))\n",
    "    H_pump = Fp * (a1 + a1d + a2 + a2d)\n",
    "    H = H_detuning + H_nonlinear + H_hopping + H_pump\n",
    "    #rho_ss = steadystate(H, [a1+a2])\n",
    "    #num_tot = expect(a1d*a1 + a2d*a2, rho_ss)\n",
    "    rho0 = tensor(fock(N_cutoff,0),fock(N_cutoff,0))\n",
    "    rho02 = tensor(fock(N_cutoff,5),fock(N_cutoff,5))\n",
    "    c_ops_l = [a1,a2]\n",
    "    c_ops_nl = [a1+a2]\n",
    "    tlist = np.linspace(0,20,200)\n",
    "    result = mcsolve(H,rho0,tlist,c_ops_l,[a1d*a1+a2d*a2],ntraj=200)\n",
    "    result2 = mcsolve(H,rho02,tlist,c_ops_l,[a1d*a1+a2d*a2],ntraj=200)\n",
    "    #result = mesolve(H,rho0,tlist,c_ops,[a1d*a1+a2d*a2])\n",
    "    num_tot = result.expect[0]\n",
    "    num_tot2 = result2.expect[0]\n",
    "    lista.append(num_tot)\n",
    "    lista2.append(num_tot2)"
   ]
  },
  {
   "cell_type": "code",
   "execution_count": 30,
   "metadata": {},
   "outputs": [],
   "source": [
    "qsave(lista,'nt_N30_Nmax8082_desde0')\n",
    "qsave(lista2,'nt_N30_Nmax8082_desde5')"
   ]
  },
  {
   "cell_type": "code",
   "execution_count": 32,
   "metadata": {},
   "outputs": [
    {
     "data": {
      "text/plain": [
       "Text(0,0.5,'$n_{tot}/N$')"
      ]
     },
     "execution_count": 32,
     "metadata": {},
     "output_type": "execute_result"
    },
    {
     "data": {
      "image/png": "[encoded data removed]",
      "text/plain": [
       "<matplotlib.figure.Figure at 0x7f73e87744a8>"
      ]
     },
     "metadata": {},
     "output_type": "display_data"
    }
   ],
   "source": [
    "fig, axes = plt.subplots(1,1)\n",
    "axes.plot(tlist,[x/N for x in lista[0]])\n",
    "axes.plot(tlist,[x/N for x in lista[1]])\n",
    "axes.plot(tlist,[x/N for x in lista[2]])\n",
    "#axes.plot(tlist,[x/N for x in lista2[0]])\n",
    "#axes.plot(tlist,[x/N for x in lista2[1]])\n",
    "#axes.plot(tlist,[x/N for x in lista2[2]])\n",
    "axes.set_xlabel(r'$t$',fontsize=20)\n",
    "axes.set_ylabel(r'$n_{tot}/N$',fontsize=20)"
   ]
  },
  {
   "cell_type": "code",
   "execution_count": 169,
   "metadata": {},
   "outputs": [],
   "source": [
    "gamma = 1.0\n",
    "Delta = 1.0\n",
    "J = 1.0\n",
    "N = 10\n",
    "U = 1.0/N\n",
    "Fp = np.sqrt(N)*0.61"
   ]
  },
  {
   "cell_type": "code",
   "execution_count": null,
   "metadata": {},
   "outputs": [
    {
     "name": "stdout",
     "output_type": "stream",
     "text": [
      "10.0%. Run time:  95.39s. Est. time left: 00:00:14:18\n"
     ]
    }
   ],
   "source": [
    "lista = []\n",
    "lista2 =[]\n",
    "for N_cutoff in range(30,32):\n",
    "    a = destroy(N_cutoff)\n",
    "    ad = a.dag()\n",
    "    idty = qeye(N_cutoff)\n",
    "    a1 = tensor(a,idty)\n",
    "    a1d = a1.dag()\n",
    "    a2 = tensor(idty,a)\n",
    "    a2d = a2.dag()\n",
    "    H_detuning = -Delta * (a1d * a1 + a2d * a2)\n",
    "    H_nonlinear = U * (a1d * a1d * a1 * a1 + a2d * a2d * a2 * a2)\n",
    "    H_hopping = -J * (tensor(ad,a) + tensor(a,ad))\n",
    "    H_pump = Fp * (a1 + a1d + a2 + a2d)\n",
    "    H = H_detuning + H_nonlinear + H_hopping + H_pump\n",
    "    #rho_ss = steadystate(H, [a1+a2])\n",
    "    #num_tot = expect(a1d*a1 + a2d*a2, rho_ss)\n",
    "    rho0 = tensor(fock(N_cutoff,0),fock(N_cutoff,0))\n",
    "    #rho02 = tensor(fock(N_cutoff,5),fock(N_cutoff,5))\n",
    "    c_ops_l = [a1,a2]\n",
    "    #c_ops_nl = [a1+a2]\n",
    "    tlist = np.linspace(0,200,2000)\n",
    "    result = mcsolve(H,rho0,tlist,c_ops_l,[a1d*a1+a2d*a2],ntraj=1000)\n",
    "    #result2 = mcsolve(H,rho02,tlist,c_ops_l,[a1d*a1+a2d*a2],ntraj=400)\n",
    "    #result = mesolve(H,rho0,tlist,c_ops,[a1d*a1+a2d*a2])\n",
    "    num_tot = result.expect[0]\n",
    "    #num_tot2 = result2.expect[0]\n",
    "    lista.append(num_tot)\n",
    "    #lista2.append(num_tot2)"
   ]
  },
  {
   "cell_type": "code",
   "execution_count": 8,
   "metadata": {},
   "outputs": [],
   "source": [
    "qsave(lista,'nt_N10_Nmax3032_desde0')\n",
    "qsave(lista2,'nt_N10_Nmax3032_desde5')"
   ]
  },
  {
   "cell_type": "code",
   "execution_count": null,
   "metadata": {},
   "outputs": [],
   "source": [
    "fig, axes = plt.subplots(1,1)\n",
    "axes.plot(tlist,[x for x in lista[0]])\n",
    "axes.plot(tlist,[x for x in lista[1]])\n",
    "#axes.plot(tlist,[x for x in lista[2]])\n",
    "#axes.plot(tlist,[x/N for x in lista2[0]])\n",
    "#axes.plot(tlist,[x/N for x in lista2[1]])\n",
    "#axes.plot(tlist,[x/N for x in lista2[2]])\n",
    "axes.set_xlabel(r'$t$',fontsize=20)\n",
    "axes.set_ylabel(r'$n_{tot}/N$',fontsize=20)"
   ]
  },
  {
   "cell_type": "code",
   "execution_count": 64,
   "metadata": {},
   "outputs": [],
   "source": [
    "a=np.arange(20)\n",
    "prueba = [x/N for x in lista[0]]"
   ]
  },
  {
   "cell_type": "code",
   "execution_count": 141,
   "metadata": {},
   "outputs": [],
   "source": [
    "aux = lista[0]"
   ]
  },
  {
   "cell_type": "code",
   "execution_count": 140,
   "metadata": {},
   "outputs": [
    {
     "data": {
      "text/plain": [
       "array([ 0.        ,  0.06840815,  0.25786322,  0.54349049,  0.89993777,\n",
       "        1.30272314,  1.72934479,  2.16006667,  2.57836288,  2.97105556,\n",
       "        3.32821086,  3.64286771,  3.91066943,  4.12945581,  4.29885776,\n",
       "        4.4199219 ,  4.49477999,  4.52636888,  4.51820062,  4.47417814,\n",
       "        4.39845026,  4.29529887,  4.16905109,  4.02401028,  3.86440001,\n",
       "        3.69431687,  3.51768859,  3.33823533,  3.15943296,  2.98447798,\n",
       "        2.81625455,  2.65730452,  2.50980167,  2.3755315 ,  2.25587795,\n",
       "        2.1518179 ,  2.06392429,  1.99237827,  1.93698998,  1.89722781,\n",
       "        1.87225475,  1.86097095,  1.86206071,  1.87404225,  1.89531867,\n",
       "        1.92422815,  1.95909206,  1.99825941,  2.04014668,  2.08327197,\n",
       "        2.12628321,  2.16797977,  2.20732789,  2.24346974,  2.27572682,\n",
       "        2.30359814,  2.32675375,  2.34502458,  2.35838906,  2.36695745,\n",
       "        2.37095454,  2.3707013 ,  2.36659624,  2.35909679,  2.34870141,\n",
       "        2.33593251,  2.32132077,  2.30539088,  2.288649  ,  2.27157198,\n",
       "        2.25459845,  2.23812171,  2.22248459,  2.20797588,  2.19482859,\n",
       "        2.18321969,  2.17327122,  2.16505267,  2.15858443,  2.15384208,\n",
       "        2.15076137,  2.1492437 ,  2.14916198,  2.15036652,  2.15269096,\n",
       "        2.15595809,  2.15998531,  2.16458968,  2.16959254,  2.17482352,\n",
       "        2.18012397,  2.18534977,  2.19037344,  2.19508568,  2.19939628,\n",
       "        2.20323443,  2.20654856,  2.20930564,  2.2114902 ,  2.21310285,\n",
       "        2.2141587 ,  2.21468544,  2.21472141,  2.21431353,  2.21351526,\n",
       "        2.21238454,  2.21098192,  2.20936877,  2.20760561,  2.20575069,\n",
       "        2.20385878,  2.2019801 ,  2.20015952,  2.19843599,  2.19684216,\n",
       "        2.19540417,  2.19414164,  2.19306787,  2.19219013,  2.19151004,\n",
       "        2.19102416,  2.19072453,  2.19059937,  2.19063371,  2.19081013,\n",
       "        2.1911094 ,  2.19151117,  2.19199459,  2.19253889,  2.19312386,\n",
       "        2.19373032,  2.19434051,  2.19493837,  2.19550978,  2.19604273,\n",
       "        2.19652736,  2.19695607,  2.19732342,  2.19762606,  2.19786263,\n",
       "        2.19803356,  2.19814089,  2.19818807,  2.19817971,  2.19812137,\n",
       "        2.1980193 ,  2.19788023,  2.19771113,  2.19751906,  2.19731093,\n",
       "        2.19709335,  2.19687254,  2.19665414,  2.1964432 ,  2.19624407,\n",
       "        2.19606034,  2.19589489,  2.19574985,  2.19562661,  2.19552589,\n",
       "        2.19544776,  2.19539173,  2.19535682,  2.19534159,  2.19534427,\n",
       "        2.19536283,  2.19539502,  2.19543851,  2.19549091,  2.19554983,\n",
       "        2.19561297,  2.19567818,  2.19574344,  2.19580696,  2.19586716,\n",
       "        2.19592271,  2.19597253,  2.19601578,  2.19605191,  2.19608056,\n",
       "        2.19610162,  2.19611517,  2.19612149,  2.19612099,  2.19611423,\n",
       "        2.19610186,  2.1960846 ,  2.19606325,  2.1960386 ,  2.19601146,\n",
       "        2.19598262,  2.19595284,  2.1959228 ,  2.19589316,  2.19586446,\n",
       "        2.19583721,  2.19581179,  2.19578852,  2.19576764,  2.19574927,\n",
       "        2.1957335 ,  2.19572032,  2.19570966,  2.1957014 ,  2.19569537,\n",
       "        2.19569136,  2.19568913,  2.19568842,  2.19568896,  2.19569048,\n",
       "        2.1956927 ,  2.19569537,  2.19569824,  2.19570108,  2.19570369,\n",
       "        2.19570589,  2.19570755,  2.19570853,  2.19570875,  2.19570816,\n",
       "        2.1957067 ,  2.19570438,  2.19570121,  2.19569723,  2.19569248,\n",
       "        2.19568702,  2.19568095,  2.19567433,  2.19566727,  2.19565985,\n",
       "        2.19565217,  2.19564432,  2.19563637,  2.19562842,  2.19562053,\n",
       "        2.19561276,  2.19560517,  2.19559781,  2.1955907 ,  2.19558388,\n",
       "        2.19557735,  2.19557112,  2.19556519,  2.19555956,  2.19555421,\n",
       "        2.19554911,  2.19554424,  2.19553957,  2.19553509,  2.19553074,\n",
       "        2.1955265 ,  2.19552235,  2.19551825,  2.19551417,  2.19551008,\n",
       "        2.19550597,  2.19550182,  2.19549761,  2.19549332,  2.19548895,\n",
       "        2.19548449,  2.19547994,  2.19547529,  2.19547055,  2.19546573,\n",
       "        2.19546082,  2.19545584,  2.19545079,  2.19544569,  2.19544055,\n",
       "        2.19543537,  2.19543017,  2.19542495,  2.19541973,  2.19541452,\n",
       "        2.19540932,  2.19540414,  2.19539899,  2.19539387,  2.19538878,\n",
       "        2.19538374,  2.19537873,  2.19537376,  2.19536883,  2.19536394,\n",
       "        2.19535909,  2.19535427,  2.19534948,  2.19534471,  2.19533998,\n",
       "        2.19533526,  2.19533056,  2.19532588,  2.1953212 ,  2.19531653,\n",
       "        2.19531187,  2.19530721,  2.19530254,  2.19529788,  2.19529321,\n",
       "        2.19528853,  2.19528385,  2.19527917,  2.19527448,  2.19526978,\n",
       "        2.19526508,  2.19526037,  2.19525567,  2.19525095,  2.19524624,\n",
       "        2.19524153,  2.19523682,  2.19523211,  2.1952274 ,  2.1952227 ,\n",
       "        2.19521801,  2.19521332,  2.19520864,  2.19520396,  2.1951993 ,\n",
       "        2.19519464,  2.19519   ,  2.19518536,  2.19518073,  2.19517612,\n",
       "        2.19517151,  2.19516691,  2.19516231,  2.19515773,  2.19515316,\n",
       "        2.19514859,  2.19514403,  2.19513947,  2.19513492,  2.19513038,\n",
       "        2.19512585,  2.19512131,  2.19511679,  2.19511227,  2.19510775,\n",
       "        2.19510323,  2.19509873,  2.19509422,  2.19508972,  2.19508522,\n",
       "        2.19508073,  2.19507624,  2.19507176,  2.19506728,  2.1950628 ,\n",
       "        2.19505833,  2.19505386,  2.1950494 ,  2.19504494,  2.19504049,\n",
       "        2.19503605,  2.1950316 ,  2.19502717,  2.19502274,  2.19501831,\n",
       "        2.19501389,  2.19500948,  2.19500507,  2.19500067,  2.19499627,\n",
       "        2.19499188,  2.1949875 ,  2.19498312,  2.19497874,  2.19497437,\n",
       "        2.19497001,  2.19496565,  2.1949613 ,  2.19495695,  2.19495261,\n",
       "        2.19494828,  2.19494394,  2.19493962,  2.1949353 ,  2.19493098,\n",
       "        2.19492667,  2.19492236,  2.19491806,  2.19491376,  2.19490947,\n",
       "        2.19490519,  2.1949009 ,  2.19489663,  2.19489235,  2.19488809,\n",
       "        2.19488383,  2.19487957,  2.19487532,  2.19487107,  2.19486683,\n",
       "        2.19486259,  2.19485836,  2.19485413,  2.19484991,  2.19484569,\n",
       "        2.19484148,  2.19483727,  2.19483307,  2.19482888,  2.19482468,\n",
       "        2.1948205 ,  2.19481632,  2.19481214,  2.19480797,  2.1948038 ,\n",
       "        2.19479964,  2.19479548,  2.19479133,  2.19478718,  2.19478304,\n",
       "        2.1947789 ,  2.19477477,  2.19477065,  2.19476652,  2.19476241,\n",
       "        2.19475829,  2.19475418,  2.19475008,  2.19474598,  2.19474189,\n",
       "        2.1947378 ,  2.19473372,  2.19472964,  2.19472557,  2.1947215 ,\n",
       "        2.19471743,  2.19471337,  2.19470932,  2.19470527,  2.19470122,\n",
       "        2.19469718,  2.19469315,  2.19468912,  2.19468509,  2.19468107,\n",
       "        2.19467705,  2.19467304,  2.19466903,  2.19466503,  2.19466104,\n",
       "        2.19465704,  2.19465305,  2.19464907,  2.19464509,  2.19464112,\n",
       "        2.19463715,  2.19463319,  2.19462923,  2.19462527,  2.19462132,\n",
       "        2.19461738,  2.19461343,  2.1946095 ,  2.19460557,  2.19460164,\n",
       "        2.19459772,  2.1945938 ,  2.19458989,  2.19458598,  2.19458208,\n",
       "        2.19457818,  2.19457428,  2.19457039,  2.19456651,  2.19456263,\n",
       "        2.19455875,  2.19455488,  2.19455101,  2.19454715,  2.19454329,\n",
       "        2.19453944,  2.19453559,  2.19453175,  2.19452791,  2.19452407,\n",
       "        2.19452024,  2.19451642,  2.19451259,  2.19450878,  2.19450497,\n",
       "        2.19450116,  2.19449736,  2.19449356,  2.19448976,  2.19448597,\n",
       "        2.19448219,  2.19447841,  2.19447463,  2.19447086,  2.19446709,\n",
       "        2.19446333,  2.19445957,  2.19445582,  2.19445207,  2.19444832,\n",
       "        2.19444458,  2.19444085,  2.19443711,  2.19443339,  2.19442966,\n",
       "        2.19442595,  2.19442223,  2.19441852,  2.19441482,  2.19441112,\n",
       "        2.19440742,  2.19440373,  2.19440004,  2.19439636,  2.19439268,\n",
       "        2.194389  ,  2.19438533,  2.19438167,  2.194378  ,  2.19437435,\n",
       "        2.19437069,  2.19436705,  2.1943634 ,  2.19435976,  2.19435613,\n",
       "        2.1943525 ,  2.19434887,  2.19434525,  2.19434163,  2.19433801,\n",
       "        2.1943344 ,  2.1943308 ,  2.1943272 ,  2.1943236 ,  2.19432001,\n",
       "        2.19431642,  2.19431283,  2.19430925,  2.19430568,  2.19430211,\n",
       "        2.19429854,  2.19429498,  2.19429142,  2.19428786,  2.19428431,\n",
       "        2.19428077,  2.19427722,  2.19427369,  2.19427015,  2.19426662,\n",
       "        2.1942631 ,  2.19425958,  2.19425606,  2.19425255,  2.19424904,\n",
       "        2.19424553,  2.19424203,  2.19423854,  2.19423505,  2.19423156,\n",
       "        2.19422807,  2.1942246 ,  2.19422112,  2.19421765,  2.19421418,\n",
       "        2.19421072,  2.19420726,  2.1942038 ,  2.19420035,  2.19419691,\n",
       "        2.19419346,  2.19419003,  2.19418659,  2.19418316,  2.19417973,\n",
       "        2.19417631,  2.19417289,  2.19416948,  2.19416607,  2.19416266,\n",
       "        2.19415926,  2.19415586,  2.19415247,  2.19414908,  2.19414569,\n",
       "        2.19414231,  2.19413893,  2.19413556,  2.19413219,  2.19412882,\n",
       "        2.19412546,  2.1941221 ,  2.19411875,  2.1941154 ,  2.19411205,\n",
       "        2.19410871,  2.19410537,  2.19410204,  2.19409871,  2.19409538,\n",
       "        2.19409206,  2.19408874,  2.19408543,  2.19408212,  2.19407881,\n",
       "        2.19407551,  2.19407221,  2.19406892,  2.19406562,  2.19406234,\n",
       "        2.19405905,  2.19405578,  2.1940525 ,  2.19404923,  2.19404596,\n",
       "        2.1940427 ,  2.19403944,  2.19403618,  2.19403293,  2.19402968,\n",
       "        2.19402644,  2.1940232 ,  2.19401996,  2.19401673,  2.1940135 ,\n",
       "        2.19401027,  2.19400705,  2.19400383,  2.19400062,  2.19399741,\n",
       "        2.1939942 ,  2.193991  ,  2.1939878 ,  2.19398461,  2.19398142,\n",
       "        2.19397823,  2.19397505,  2.19397187,  2.19396869,  2.19396552,\n",
       "        2.19396235,  2.19395918,  2.19395602,  2.19395287,  2.19394971,\n",
       "        2.19394656,  2.19394342,  2.19394028,  2.19393714,  2.193934  ,\n",
       "        2.19393087,  2.19392774,  2.19392462,  2.1939215 ,  2.19391838,\n",
       "        2.19391527,  2.19391216,  2.19390906,  2.19390596,  2.19390286,\n",
       "        2.19389976,  2.19389667,  2.19389359,  2.1938905 ,  2.19388742,\n",
       "        2.19388435,  2.19388128,  2.19387821,  2.19387514,  2.19387208,\n",
       "        2.19386902,  2.19386597,  2.19386292,  2.19385987,  2.19385683,\n",
       "        2.19385379,  2.19385075,  2.19384772,  2.19384469,  2.19384167,\n",
       "        2.19383865,  2.19383563,  2.19383261,  2.1938296 ,  2.1938266 ,\n",
       "        2.19382359,  2.19382059,  2.19381759,  2.1938146 ,  2.19381161,\n",
       "        2.19380863,  2.19380564,  2.19380266,  2.19379969,  2.19379672,\n",
       "        2.19379375,  2.19379078,  2.19378782,  2.19378487,  2.19378191,\n",
       "        2.19377896,  2.19377601,  2.19377307,  2.19377013,  2.19376719,\n",
       "        2.19376426,  2.19376133,  2.1937584 ,  2.19375548,  2.19375256,\n",
       "        2.19374964,  2.19374673,  2.19374382,  2.19374092,  2.19373801,\n",
       "        2.19373512,  2.19373222,  2.19372933,  2.19372644,  2.19372355,\n",
       "        2.19372067,  2.19371779,  2.19371492,  2.19371205,  2.19370918,\n",
       "        2.19370632,  2.19370345,  2.1937006 ,  2.19369774,  2.19369489,\n",
       "        2.19369204,  2.1936892 ,  2.19368636,  2.19368352,  2.19368069,\n",
       "        2.19367786,  2.19367503,  2.1936722 ,  2.19366938,  2.19366657,\n",
       "        2.19366375,  2.19366094,  2.19365813,  2.19365533,  2.19365253,\n",
       "        2.19364973,  2.19364694,  2.19364415,  2.19364136,  2.19363857,\n",
       "        2.19363579,  2.19363302,  2.19363024,  2.19362747,  2.1936247 ,\n",
       "        2.19362194,  2.19361918,  2.19361642,  2.19361366,  2.19361091,\n",
       "        2.19360816,  2.19360542,  2.19360268,  2.19359994,  2.1935972 ,\n",
       "        2.19359447,  2.19359174,  2.19358902,  2.1935863 ,  2.19358358,\n",
       "        2.19358086,  2.19357815,  2.19357544,  2.19357273,  2.19357003,\n",
       "        2.19356733,  2.19356463,  2.19356194,  2.19355925,  2.19355656,\n",
       "        2.19355388,  2.1935512 ,  2.19354852,  2.19354585,  2.19354318,\n",
       "        2.19354051,  2.19353784,  2.19353518,  2.19353252,  2.19352987,\n",
       "        2.19352722,  2.19352457,  2.19352192,  2.19351928,  2.19351664,\n",
       "        2.193514  ,  2.19351137,  2.19350874,  2.19350611,  2.19350349,\n",
       "        2.19350087,  2.19349825,  2.19349564,  2.19349302,  2.19349042,\n",
       "        2.19348781,  2.19348521,  2.19348261,  2.19348001,  2.19347742,\n",
       "        2.19347483,  2.19347224,  2.19346966,  2.19346708,  2.1934645 ,\n",
       "        2.19346193,  2.19345935,  2.19345679,  2.19345422,  2.19345166,\n",
       "        2.1934491 ,  2.19344654,  2.19344399,  2.19344144,  2.19343889,\n",
       "        2.19343635,  2.19343381,  2.19343127,  2.19342873,  2.1934262 ,\n",
       "        2.19342367,  2.19342114,  2.19341862,  2.1934161 ,  2.19341358,\n",
       "        2.19341107,  2.19340856,  2.19340605,  2.19340354,  2.19340104,\n",
       "        2.19339854,  2.19339605,  2.19339355,  2.19339106,  2.19338857,\n",
       "        2.19338609,  2.19338361,  2.19338113,  2.19337865,  2.19337618,\n",
       "        2.19337371,  2.19337124,  2.19336878,  2.19336632,  2.19336386,\n",
       "        2.1933614 ,  2.19335895,  2.1933565 ,  2.19335406,  2.19335161,\n",
       "        2.19334917,  2.19334673,  2.1933443 ,  2.19334187,  2.19333944,\n",
       "        2.19333701,  2.19333459,  2.19333217,  2.19332975,  2.19332733,\n",
       "        2.19332492,  2.19332251,  2.1933201 ,  2.1933177 ,  2.1933153 ,\n",
       "        2.1933129 ,  2.19331051,  2.19330812,  2.19330573,  2.19330334,\n",
       "        2.19330096,  2.19329858,  2.1932962 ,  2.19329382,  2.19329145,\n",
       "        2.19328908,  2.19328671,  2.19328435,  2.19328199,  2.19327963,\n",
       "        2.19327727,  2.19327492,  2.19327257,  2.19327022,  2.19326788,\n",
       "        2.19326554,  2.1932632 ,  2.19326086,  2.19325853,  2.1932562 ,\n",
       "        2.19325387,  2.19325155,  2.19324922,  2.1932469 ,  2.19324459,\n",
       "        2.19324227,  2.19323996,  2.19323765,  2.19323535,  2.19323305,\n",
       "        2.19323074,  2.19322845,  2.19322615,  2.19322386,  2.19322157,\n",
       "        2.19321928,  2.193217  ,  2.19321472,  2.19321244,  2.19321016,\n",
       "        2.19320789,  2.19320562,  2.19320335,  2.19320109,  2.19319882,\n",
       "        2.19319656,  2.19319431,  2.19319205,  2.1931898 ,  2.19318755,\n",
       "        2.19318531,  2.19318306,  2.19318082,  2.19317858,  2.19317635,\n",
       "        2.19317411,  2.19317188,  2.19316966,  2.19316743,  2.19316521,\n",
       "        2.19316299,  2.19316077,  2.19315856,  2.19315634,  2.19315413,\n",
       "        2.19315193,  2.19314972,  2.19314752,  2.19314532,  2.19314313,\n",
       "        2.19314093,  2.19313874,  2.19313655,  2.19313437,  2.19313218,\n",
       "        2.19313   ,  2.19312782,  2.19312565,  2.19312347,  2.1931213 ,\n",
       "        2.19311914,  2.19311697,  2.19311481,  2.19311265,  2.19311049,\n",
       "        2.19310834,  2.19310618,  2.19310403,  2.19310189,  2.19309974,\n",
       "        2.1930976 ,  2.19309546,  2.19309332,  2.19309119,  2.19308905,\n",
       "        2.19308692,  2.1930848 ,  2.19308267,  2.19308055,  2.19307843,\n",
       "        2.19307631,  2.1930742 ,  2.19307209,  2.19306998,  2.19306787,\n",
       "        2.19306577,  2.19306366,  2.19306156,  2.19305947,  2.19305737,\n",
       "        2.19305528,  2.19305319,  2.1930511 ,  2.19304902,  2.19304694,\n",
       "        2.19304486,  2.19304278,  2.1930407 ,  2.19303863,  2.19303656])"
      ]
     },
     "execution_count": 140,
     "metadata": {},
     "output_type": "execute_result"
    }
   ],
   "source": [
    "lista[0]"
   ]
  },
  {
   "cell_type": "code",
   "execution_count": 168,
   "metadata": {},
   "outputs": [
    {
     "data": {
      "text/plain": [
       "2.2056783397255026"
      ]
     },
     "execution_count": 168,
     "metadata": {},
     "output_type": "execute_result"
    }
   ],
   "source": [
    "lista[0][1000]"
   ]
  },
  {
   "cell_type": "code",
   "execution_count": 5,
   "metadata": {},
   "outputs": [],
   "source": [
    "gamma = 1.0\n",
    "Delta = 1.0\n",
    "J = 1.0\n",
    "N = 1\n",
    "U = 1.0/N\n",
    "Fp = np.sqrt(N)*1.0"
   ]
  },
  {
   "cell_type": "code",
   "execution_count": 20,
   "metadata": {},
   "outputs": [],
   "source": [
    "lista = []\n",
    "lista2 =[]\n",
    "for N_cutoff in range(10,11):\n",
    "    a = destroy(N_cutoff)\n",
    "    ad = a.dag()\n",
    "    idty = qeye(N_cutoff)\n",
    "    a1 = tensor(a,idty)\n",
    "    a1d = a1.dag()\n",
    "    a2 = tensor(idty,a)\n",
    "    a2d = a2.dag()\n",
    "    H_detuning = -Delta * (a1d * a1 + a2d * a2)\n",
    "    H_nonlinear = U * (a1d * a1d * a1 * a1 + a2d * a2d * a2 * a2)\n",
    "    H_hopping = -J * (tensor(ad,a) + tensor(a,ad))\n",
    "    H_pump = Fp * (a1 + a1d + a2 + a2d)\n",
    "    H = H_detuning + H_nonlinear + H_hopping + H_pump\n",
    "    #rho_ss = steadystate(H, [a1+a2])\n",
    "    #num_tot = expect(a1d*a1 + a2d*a2, rho_ss)\n",
    "    rho0 = tensor(fock(N_cutoff,0),fock(N_cutoff,0))\n",
    "    rho02 = tensor(fock(N_cutoff,5),fock(N_cutoff,5))\n",
    "    c_ops_l = [a1,a2]\n",
    "    c_ops_nl = [a1+a2]\n",
    "    tlist = np.linspace(0,35,350)\n",
    "    result = mesolve(H,rho0,tlist,c_ops_l,[a1d*a1+a2d*a2])\n",
    "    #result2 = mesolve(H,rho02,tlist,c_ops_l,[a1d*a1+a2d*a2])\n",
    "    #result = mesolve(H,rho0,tlist,c_ops,[a1d*a1+a2d*a2])\n",
    "    num_tot = result.expect[0]\n",
    "    #num_tot2 = result2.expect[0]\n",
    "    lista.append(num_tot)\n",
    "    #lista2.append(num_tot2)"
   ]
  },
  {
   "cell_type": "code",
   "execution_count": 21,
   "metadata": {},
   "outputs": [],
   "source": [
    "ss = steadystate(H,c_ops_l)\n",
    "promedio = expect(a1d*a1+a2d*a2,ss)"
   ]
  },
  {
   "cell_type": "code",
   "execution_count": 27,
   "metadata": {},
   "outputs": [],
   "source": [
    "qsave(lista,'nt_N4_Nmax1517_desde0')\n",
    "qsave(lista2,'nt_N4_Nmax1517_desde5')"
   ]
  },
  {
   "cell_type": "code",
   "execution_count": 10,
   "metadata": {},
   "outputs": [
    {
     "data": {
      "text/plain": [
       "Text(0,0.5,'$n_{tot}/N$')"
      ]
     },
     "execution_count": 10,
     "metadata": {},
     "output_type": "execute_result"
    },
    {
     "data": {
      "image/png": "[encoded data removed]",
      "text/plain": [
       "<matplotlib.figure.Figure at 0x7fb1b4190828>"
      ]
     },
     "metadata": {},
     "output_type": "display_data"
    }
   ],
   "source": [
    "fig, axes = plt.subplots(1,1)\n",
    "axes.plot(tlist,[x/1 for x in lista[0]])\n",
    "#axes.plot(tlist,[x/1 for x in lista[1]])\n",
    "#axes.plot(tlist,[x/1 for x in lista[2]])\n",
    "#axes.plot(tlist,[x/1 for x in lista2[0]])\n",
    "#axes.plot(tlist,[x/1 for x in lista2[1]])\n",
    "#axes.plot(tlist,[x/1 for x in lista2[2]])\n",
    "axes.set_xlabel(r'$t$',fontsize=20)\n",
    "axes.set_ylabel(r'$n_{tot}/N$',fontsize=20)"
   ]
  },
  {
   "cell_type": "code",
   "execution_count": 11,
   "metadata": {},
   "outputs": [
    {
     "data": {
      "text/plain": [
       "array([ 0.        ,  0.01903936,  0.07176796,  0.15128906,  0.25064984,\n",
       "        0.36326167,  0.4832365 ,  0.60561523,  0.72648679,  0.84300441,\n",
       "        0.95330791,  1.05636605,  1.15176613,  1.23948886,  1.3197082 ,\n",
       "        1.3926449 ,  1.45848448,  1.5173532 ,  1.56933532,  1.6145121 ,\n",
       "        1.65300621,  1.68502022,  1.71086303,  1.73096153,  1.74585768,\n",
       "        1.75619269,  1.76268174,  1.76608307,  1.76716551,  1.7666779 ,\n",
       "        1.76532262,  1.76373466,  1.76246639,  1.76197806,  1.76263331,\n",
       "        1.76469914,  1.76834961,  1.77367262,  1.78067898,  1.78931318,\n",
       "        1.79946492,  1.81098105,  1.82367709,  1.83734806,  1.85177835,\n",
       "        1.8667503 ,  1.88205173,  1.89748211,  1.91285753,  1.92801456,\n",
       "        1.94281284,  1.95713671,  1.97089569,  1.98402422,  1.99648048,\n",
       "        2.00824468,  2.0193167 ,  2.02971355,  2.0394664 ,  2.04861768,\n",
       "        2.05721809,  2.06532376,  2.07299366,  2.08028722,  2.08726233,\n",
       "        2.09397367,  2.10047139,  2.10680013,  2.11299841,  2.11909832,\n",
       "        2.12512543,  2.13109904,  2.13703247,  2.14293366,  2.14880579,\n",
       "        2.15464795,  2.16045593,  2.16622292,  2.17194026,  2.17759811,\n",
       "        2.18318605,  2.18869365,  2.19411091,  2.19942863,  2.20463871,\n",
       "        2.20973436,  2.21471022,  2.2195624 ,  2.2242885 ,  2.22888754,\n",
       "        2.23335988,  2.23770702,  2.24193153,  2.24603682,  2.25002696,\n",
       "        2.25390654,  2.25768047,  2.26135385,  2.26493178,  2.26841928,\n",
       "        2.2718212 ,  2.27514208,  2.27838613,  2.28155719,  2.28465869,\n",
       "        2.28769365,  2.29066471,  2.29357408,  2.29642367,  2.29921504,\n",
       "        2.30194948,  2.30462804,  2.3072516 ,  2.30982086,  2.31233644,\n",
       "        2.31479889,  2.3172087 ,  2.31956638,  2.32187245,  2.32412745,\n",
       "        2.32633199,  2.32848672,  2.33059236,  2.33264971,  2.33465959,\n",
       "        2.33662293,  2.33854066,  2.3404138 ,  2.34224336,  2.34403039,\n",
       "        2.34577597,  2.34748115,  2.34914701,  2.35077458,  2.35236489,\n",
       "        2.35391896,  2.35543774,  2.35692217,  2.35837316,  2.35979156,\n",
       "        2.36117819,  2.36253385,  2.36385927,  2.36515518,  2.36642225,\n",
       "        2.36766114,  2.36887247,  2.37005684,  2.37121482,  2.37234699,\n",
       "        2.37345388,  2.37453602,  2.37559393,  2.37662812,  2.37763908,\n",
       "        2.37862731,  2.37959329,  2.38053749,  2.38146038,  2.38236244,\n",
       "        2.38324411,  2.38410586,  2.38494812,  2.38577134,  2.38657595,\n",
       "        2.38736237,  2.38813102,  2.38888231,  2.38961664,  2.3903344 ,\n",
       "        2.39103597,  2.39172173,  2.39239203,  2.39304724,  2.39368771,\n",
       "        2.39431376,  2.39492573,  2.39552395,  2.39610871,  2.39668032,\n",
       "        2.39723909,  2.39778529,  2.39831922,  2.39884114,  2.39935133,\n",
       "        2.39985004,  2.40033754,  2.40081407,  2.40127988,  2.4017352 ,\n",
       "        2.40218028,  2.40261534,  2.4030406 ,  2.40345628,  2.4038626 ,\n",
       "        2.40425977,  2.40464799,  2.40502747,  2.4053984 ,  2.40576098,\n",
       "        2.40611539,  2.40646181,  2.40680044,  2.40713143,  2.40745497,\n",
       "        2.40777123,  2.40808036,  2.40838254,  2.40867791,  2.40896663,\n",
       "        2.40924885,  2.40952472,  2.40979438,  2.41005797,  2.41031563,\n",
       "        2.41056748,  2.41081367,  2.41105431,  2.41128954,  2.41151948,\n",
       "        2.41174424,  2.41196393,  2.41217869,  2.41238861,  2.4125938 ,\n",
       "        2.41279437,  2.41299043,  2.41318207,  2.4133694 ,  2.41355251,\n",
       "        2.4137315 ,  2.41390646,  2.41407748,  2.41424465,  2.41440806,\n",
       "        2.41456778,  2.41472391,  2.41487653,  2.41502571,  2.41517153,\n",
       "        2.41531406,  2.41545339,  2.41558958,  2.41572271,  2.41585284,\n",
       "        2.41598004,  2.41610437,  2.41622591,  2.41634471,  2.41646083,\n",
       "        2.41657434,  2.4166853 ,  2.41679375,  2.41689977,  2.4170034 ,\n",
       "        2.41710469,  2.41720371,  2.4173005 ,  2.4173951 ,  2.41748758,\n",
       "        2.41757798,  2.41766634,  2.41775271,  2.41783713,  2.41791966,\n",
       "        2.41800033,  2.41807918,  2.41815625,  2.4182316 ,  2.41830524,\n",
       "        2.41837723,  2.41844759,  2.41851638,  2.41858361,  2.41864933,\n",
       "        2.41871357,  2.41877636,  2.41883774,  2.41889774,  2.41895639,\n",
       "        2.41901372,  2.41906975,  2.41912453,  2.41917807,  2.41923041,\n",
       "        2.41928157,  2.41933157,  2.41938045,  2.41942823,  2.41947494,\n",
       "        2.41952059,  2.41956522,  2.41960884,  2.41965147,  2.41969315,\n",
       "        2.41973389,  2.41977372,  2.41981264,  2.41985069,  2.41988789,\n",
       "        2.41992424,  2.41995978,  2.41999452,  2.42002847,  2.42006166,\n",
       "        2.42009411,  2.42012582,  2.42015682,  2.42018712,  2.42021674,\n",
       "        2.42024569,  2.42027399,  2.42030166,  2.4203287 ,  2.42035513,\n",
       "        2.42038097,  2.42040622,  2.42043091,  2.42045504,  2.42047863,\n",
       "        2.42050168,  2.42052422,  2.42054625,  2.42056779,  2.42058884,\n",
       "        2.42060941,  2.42062952,  2.42064918,  2.4206684 ,  2.42068718,\n",
       "        2.42070554,  2.42072349,  2.42074104,  2.42075818,  2.42077495,\n",
       "        2.42079133,  2.42080735,  2.420823  ,  2.42083831,  2.42085327,\n",
       "        2.42086789,  2.42088218,  2.42089615,  2.42090981,  2.42092316,\n",
       "        2.42093621,  2.42094896,  2.42096143,  2.42097362,  2.42098553,\n",
       "        2.42099717,  2.42100856,  2.42101968,  2.42103056,  2.42104119,\n",
       "        2.42105158,  2.42106174,  2.42107167,  2.42108137,  2.42109086,\n",
       "        2.42110013,  2.4211092 ,  2.42111806,  2.42112672,  2.42113518,\n",
       "        2.42114346,  2.42115155,  2.42115945,  2.42116718,  2.42117474,\n",
       "        2.42118212,  2.42118934,  2.4211964 ,  2.42120329,  2.42121003,\n",
       "        2.42121662,  2.42122307,  2.42122936,  2.42123552,  2.42124153,\n",
       "        2.42124741,  2.42125316,  2.42125878,  2.42126427,  2.42126964,\n",
       "        2.42127489,  2.42128002,  2.42128504,  2.42128994,  2.42129473,\n",
       "        2.42129941,  2.42130399,  2.42130846,  2.42131284,  2.42131711,\n",
       "        2.42132129,  2.42132538,  2.42132937,  2.42133328,  2.42133709,\n",
       "        2.42134082,  2.42134447,  2.42134803,  2.42135151,  2.42135492,\n",
       "        2.42135825,  2.4213615 ,  2.42136468,  2.42136779,  2.42137083,\n",
       "        2.4213738 ,  2.4213767 ,  2.42137954,  2.42138231,  2.42138502,\n",
       "        2.42138767,  2.42139026,  2.4213928 ,  2.42139527,  2.42139769,\n",
       "        2.42140006,  2.42140237,  2.42140463,  2.42140684,  2.421409  ,\n",
       "        2.42141111,  2.42141317,  2.42141519,  2.42141716,  2.42141909,\n",
       "        2.42142097,  2.42142281,  2.42142461,  2.42142637,  2.42142809,\n",
       "        2.42142977,  2.42143141,  2.42143302,  2.42143459,  2.42143612,\n",
       "        2.42143762,  2.42143909,  2.42144052,  2.42144192,  2.42144329,\n",
       "        2.42144463,  2.42144594,  2.42144722,  2.42144847,  2.42144969,\n",
       "        2.42145089,  2.42145205,  2.42145319,  2.42145431,  2.4214554 ,\n",
       "        2.42145647,  2.42145751,  2.42145853,  2.42145952,  2.4214605 ,\n",
       "        2.42146145,  2.42146238,  2.42146329,  2.42146417,  2.42146504,\n",
       "        2.42146589,  2.42146672,  2.42146753,  2.42146833,  2.4214691 ,\n",
       "        2.42146986,  2.4214706 ,  2.42147132,  2.42147203,  2.42147272,\n",
       "        2.4214734 ,  2.42147406,  2.4214747 ,  2.42147534,  2.42147595,\n",
       "        2.42147656,  2.42147715,  2.42147772,  2.42147829,  2.42147884,\n",
       "        2.42147938,  2.4214799 ,  2.42148042,  2.42148092,  2.42148141,\n",
       "        2.42148189,  2.42148236,  2.42148282,  2.42148327,  2.42148371,\n",
       "        2.42148414,  2.42148455,  2.42148496,  2.42148536,  2.42148576])"
      ]
     },
     "execution_count": 11,
     "metadata": {},
     "output_type": "execute_result"
    }
   ],
   "source": [
    "lista[0]"
   ]
  },
  {
   "cell_type": "code",
   "execution_count": 12,
   "metadata": {},
   "outputs": [
    {
     "data": {
      "text/plain": [
       "3.9140488361510961e-07"
      ]
     },
     "execution_count": 12,
     "metadata": {},
     "output_type": "execute_result"
    }
   ],
   "source": [
    "lista[0][-1] - lista[0][-2]"
   ]
  },
  {
   "cell_type": "code",
   "execution_count": 14,
   "metadata": {},
   "outputs": [
    {
     "data": {
      "text/plain": [
       "2.4215027499150983"
      ]
     },
     "execution_count": 14,
     "metadata": {},
     "output_type": "execute_result"
    }
   ],
   "source": [
    "promedio"
   ]
  },
  {
   "cell_type": "code",
   "execution_count": 22,
   "metadata": {},
   "outputs": [
    {
     "data": {
      "text/plain": [
       "-0.00051369920353261378"
      ]
     },
     "execution_count": 22,
     "metadata": {},
     "output_type": "execute_result"
    }
   ],
   "source": [
    "lista[0][-1]-promedio"
   ]
  },
  {
   "cell_type": "code",
   "execution_count": 23,
   "metadata": {},
   "outputs": [
    {
     "data": {
      "text/plain": [
       "-0.00051369920353261378"
      ]
     },
     "execution_count": 23,
     "metadata": {},
     "output_type": "execute_result"
    }
   ],
   "source": [
    "lista[0][-1]-promedio"
   ]
  },
  {
   "cell_type": "code",
   "execution_count": 78,
   "metadata": {},
   "outputs": [
    {
     "name": "stdout",
     "output_type": "stream",
     "text": [
      "Loaded list object.\n"
     ]
    }
   ],
   "source": [
    "kito = qload('nt_N10_Nmax3032_desde0')"
   ]
  },
  {
   "cell_type": "code",
   "execution_count": 79,
   "metadata": {},
   "outputs": [
    {
     "name": "stdout",
     "output_type": "stream",
     "text": [
      "Loaded list object.\n"
     ]
    }
   ],
   "source": [
    "kito2 = qload('nt_N10_Nmax3032_desde5')"
   ]
  },
  {
   "cell_type": "code",
   "execution_count": 85,
   "metadata": {},
   "outputs": [
    {
     "data": {
      "text/plain": [
       "Text(0,0.5,'$n_{tot}/N$')"
      ]
     },
     "execution_count": 85,
     "metadata": {},
     "output_type": "execute_result"
    },
    {
     "data": {
      "image/png": "[encoded data removed]",
      "text/plain": [
       "<matplotlib.figure.Figure at 0x7f73dc873390>"
      ]
     },
     "metadata": {},
     "output_type": "display_data"
    }
   ],
   "source": [
    "fig, axes = plt.subplots(1,1)\n",
    "axes.plot(np.linspace(0,15,150),[x/1 for x in kito[0]])\n",
    "axes.plot(np.linspace(0,15,150),[x/1 for x in kito[1]])\n",
    "axes.plot(np.linspace(0,15,150),[x/1 for x in kito[2]])\n",
    "axes.plot(np.linspace(0,15,150),[x/1 for x in kito2[0]])\n",
    "axes.plot(np.linspace(0,15,150),[x/1 for x in kito2[1]])\n",
    "axes.plot(np.linspace(0,15,150),[x/1 for x in kito2[2]])\n",
    "axes.set_xlabel(r'$t$',fontsize=20)\n",
    "axes.set_ylabel(r'$n_{tot}/N$',fontsize=20)"
   ]
  },
  {
   "cell_type": "code",
   "execution_count": 83,
   "metadata": {},
   "outputs": [
    {
     "data": {
      "text/plain": [
       "array([0.0, 0.1921375555015791, 0.7240909836356534, 1.5264515203457947,\n",
       "       2.5307566840833915, 3.674301852522082, 4.9077545253679435,\n",
       "       6.189066838822739, 7.4868426166829645, 8.773128950695053,\n",
       "       10.070720658056965, 11.306000872325935, 12.494832135669139,\n",
       "       13.753877647566487, 14.999605703103386, 16.22994496051773,\n",
       "       17.55698079613674, 18.946408650985852, 20.421539765798926,\n",
       "       21.848456553230438, 23.3164965449404, 24.70083885587643,\n",
       "       26.120715646435627, 27.582882147035114, 28.995456239496775,\n",
       "       30.344302566297152, 31.376652653779626, 32.249098450070846,\n",
       "       32.765792016402145, 33.106247261940304, 33.232060457100985,\n",
       "       33.403853941302216, 33.21323576718005, 32.77712824649642,\n",
       "       32.08451382752319, 31.413661743720326, 30.53562035153926,\n",
       "       29.626378372407448, 28.78635343784606, 27.98197085929121,\n",
       "       27.032117518024698, 26.269630390743178, 25.55111455865264,\n",
       "       24.92937620739063, 24.618235668241322, 24.2680736075002,\n",
       "       24.225531397220966, 24.284198498614774, 24.566992393878714,\n",
       "       24.924045576499278, 25.28296145758657, 25.709307613404743,\n",
       "       26.156767116279035, 26.683399135782256, 27.10777920548151,\n",
       "       27.348212935147217, 27.72740771828523, 28.101703908190434,\n",
       "       28.285952875372573, 28.506518195091687, 28.734427559588422,\n",
       "       28.88860887455003, 28.958991604540874, 28.972086084747403,\n",
       "       28.897714238605307, 28.726298548811734, 28.22895013019026,\n",
       "       28.112141173456, 27.850103732559898, 27.615196951917074,\n",
       "       27.400589395909233, 27.117032303510438, 26.921769696314023,\n",
       "       26.784932749138143, 26.660289707209007, 26.59694887850966,\n",
       "       26.562813787142037, 26.651509187676897, 26.737376932394547,\n",
       "       26.725158757909853, 26.774412997984417, 26.884637802257203,\n",
       "       27.011101224247653, 27.095611608651865, 27.121760232320767,\n",
       "       27.121156531799144, 27.290536553373965, 27.450417919507785,\n",
       "       27.228781599913802, 27.36442979755326, 27.40978614419264,\n",
       "       27.566439462779893, 27.592534593244512, 27.451794656339594,\n",
       "       27.475025782322692, 27.464878215933325, 27.445747521258713,\n",
       "       27.454319872512755, 27.495469490916456, 27.653400440060267,\n",
       "       27.645951393173533, 27.79747642786171, 27.73965620677463,\n",
       "       27.762794732985476, 27.739021803569077, 27.6765379311672,\n",
       "       27.617904871954988, 27.569680013865977, 27.560480513162915,\n",
       "       27.45211280410017, 27.289093328379053, 27.25753231208299,\n",
       "       27.222161016574542, 27.15160582995834, 27.21104243217618,\n",
       "       27.06753200362514, 27.11853098220372, 26.970050389607287,\n",
       "       27.04276653755193, 27.021921371900234, 27.08723136282077,\n",
       "       27.058086574755222, 27.14744729511774, 27.11828555388754,\n",
       "       27.298436795088964, 27.282242691904976, 27.403808721929572,\n",
       "       27.592024568143916, 27.671786732271926, 27.57949087751868,\n",
       "       27.599567511073925, 27.621094171684604, 27.619528171327975,\n",
       "       27.572632379363487, 27.609660479574423, 27.56481283492313,\n",
       "       27.58697720437186, 27.50703793973669, 27.442145763391828,\n",
       "       27.41611594155659, 27.509567825571096, 27.406800557343352,\n",
       "       27.425923637417274, 27.450762853092005, 27.3353365855278,\n",
       "       27.1616600908839, 27.215202456607734, 27.0346707528193,\n",
       "       26.871698694238635, 26.919769914723556], dtype=object)"
      ]
     },
     "execution_count": 83,
     "metadata": {},
     "output_type": "execute_result"
    }
   ],
   "source": [
    "kito[0]"
   ]
  },
  {
   "cell_type": "code",
   "execution_count": null,
   "metadata": {},
   "outputs": [],
   "source": []
  }
 ],
 "metadata": {
  "kernelspec": {
   "display_name": "Python 3",
   "language": "python",
   "name": "python3"
  },
  "language_info": {
   "codemirror_mode": {
    "name": "ipython",
    "version": 3
   },
   "file_extension": ".py",
   "mimetype": "text/x-python",
   "name": "python",
   "nbconvert_exporter": "python",
   "pygments_lexer": "ipython3",
   "version": "3.6.4"
  }
 },
 "nbformat": 4,
 "nbformat_minor": 2
}
